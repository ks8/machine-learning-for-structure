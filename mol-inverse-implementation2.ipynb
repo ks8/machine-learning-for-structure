{
 "cells": [
  {
   "cell_type": "code",
   "execution_count": 1,
   "metadata": {
    "collapsed": false
   },
   "outputs": [],
   "source": [
    "import networkx as nx\n",
    "from networkx.algorithms import isomorphism\n",
    "import numpy as np\n",
    "import matplotlib.pyplot as plt\n",
    "import os\n",
    "import scipy.special\n",
    "import json\n",
    "import torch\n",
    "import torch.nn.functional as F\n",
    "from torch.optim import Adam\n",
    "from torch.utils.data import Dataset\n",
    "from sklearn.model_selection import train_test_split\n",
    "from logging import Logger\n",
    "from sklearn.metrics import roc_auc_score\n",
    "from tqdm import tqdm\n",
    "from tqdm import trange\n",
    "from scipy import stats\n",
    "import copy"
   ]
  },
  {
   "cell_type": "markdown",
   "metadata": {},
   "source": [
    "# Data Generation\n",
    "\n",
    "In this section we generate a dataset of random, simple, connected graphs. "
   ]
  },
  {
   "cell_type": "code",
   "execution_count": 10,
   "metadata": {
    "collapsed": false
   },
   "outputs": [],
   "source": [
    "full_dataset_name = \"full_dataset\"  # Folder containing set of original graphs\n",
    "training_dataset_name = \"training_dataset\"  # Folder containing set of training datapoints\n",
    "evaluation_dataset_name = \"evaluation_dataset\"  # Folder containing set of evaluation datapoints\n",
    "\n",
    "num_nodes = 6\n",
    "graphs_per_edge_number = 1000  # Number of graphs to generate for a specified number of edges\n",
    "num_uid_digits = 6  # Number of unique id digits in graph filenames "
   ]
  },
  {
   "cell_type": "code",
   "execution_count": null,
   "metadata": {
    "collapsed": false
   },
   "outputs": [],
   "source": [
    "edge_num_low = num_nodes - 1  # Lowest number of edges (|V| - 1)\n",
    "edge_num_hi = int(scipy.special.binom(num_nodes, 2))  # Highest number of edges (complete graph)\n",
    "os.makedirs(full_dataset_name, exist_ok=True)\n",
    "counter = 0\n",
    "for i in range(edge_num_low, edge_num_hi):\n",
    "    for j in range(graphs_per_edge_number):\n",
    "        graph = nx.dense_gnm_random_graph(num_nodes, i)  # Generate a random simple graph\n",
    "        if nx.is_connected(graph):  # Record the graph if it is connected\n",
    "            for k in range(len(list(graph.degree))):  # Set node attribute to be node degree\n",
    "                graph.nodes[k]['deg'] = list(graph.degree)[k][1]\n",
    "            nx.write_gml(graph, full_dataset_name + \"/graph.\" + (\"{:0\" + str(num_uid_digits) + \"d}\").format(counter))  # Write graph to file\n",
    "            counter += 1"
   ]
  },
  {
   "cell_type": "code",
   "execution_count": null,
   "metadata": {
    "collapsed": false
   },
   "outputs": [],
   "source": [
    "os.makedirs(training_dataset_name, exist_ok=True)\n",
    "for root, subfolders, files in os.walk(full_dataset_name):\n",
    "    for f in files:\n",
    "        path = os.path.join(root, f)  # File path of a graph\n",
    "        graph_number = f[-num_uid_digits:]\n",
    "        original_graph = nx.read_gml(path, destringizer=int)  # Read a graph from file\n",
    "        new_graph = original_graph.copy()  # Make a copy of the graph \n",
    "        d = 0.2*np.random.uniform(0, 1) + 0.7*np.random.beta(3, 3)  # Random fraction of remaining edges\n",
    "        num_deletions = int((1 - d)*(len(list(original_graph.edges))))  # Integer number of edges to delete \n",
    "        for _ in range(num_deletions):  # Delete edges from the graph\n",
    "            num_edge_to_delete = np.random.randint(0, len(list(new_graph.edges)))\n",
    "            new_graph.remove_edge(list(new_graph.edges)[num_edge_to_delete][0], list(new_graph.edges)[num_edge_to_delete][1])\n",
    "\n",
    "        target = np.zeros([num_nodes, num_nodes])  # Target matrix showing subisomorphic edge additions as 1s\n",
    "        test_graph = new_graph.copy()  # Make a copy of the new, deleted-edges graph\n",
    "        for i in range(num_nodes):\n",
    "            for j in range(num_nodes):  \n",
    "                if i < j and (i, j) not in new_graph.edges and test_graph.degree[i] < test_graph.nodes[i]['deg'] and test_graph.degree[j] < test_graph.nodes[j]['deg']:  # Check that i < j so we don't doulbe count edges, that (i, j) is not already in the graph, and that adding edge (i, j) doesn't violate any degree constraints\n",
    "                    test_graph.add_edge(i, j)  # Try adding a new edge between nodes i and j and check if it is subisomorphic\n",
    "                    if isomorphism.GraphMatcher(nx.line_graph(original_graph), nx.line_graph(test_graph)).subgraph_is_isomorphic():\n",
    "                        target[i, j] = 1.0\n",
    "                        target[j, i] = 1.0\n",
    "                    test_graph = new_graph.copy()\n",
    "\n",
    "        nx.write_gml(new_graph, training_dataset_name + \"/partial_graph.\" + graph_number)\n",
    "        np.savetxt(training_dataset_name + \"/target.\" + graph_number, target)"
   ]
  },
  {
   "cell_type": "code",
   "execution_count": null,
   "metadata": {
    "collapsed": false
   },
   "outputs": [],
   "source": [
    "os.makedirs(evaluation_dataset_name, exist_ok = True)\n",
    "for root, subfolders, files in os.walk(full_dataset_name):\n",
    "    for f in files:\n",
    "        path = os.path.join(root, f)  # File path of a graph\n",
    "        graph_number = f[-num_uid_digits:]\n",
    "        original_graph = nx.read_gml(path, destringizer=int)  # Read a graph from file\n",
    "        new_graph = original_graph.copy()  # Make a copy of the graph\n",
    "        for i in range(num_nodes):\n",
    "            for j in range(num_nodes):\n",
    "                if (i, j) in new_graph.edges:\n",
    "                    new_graph.remove_edge(i, j)\n",
    "                    \n",
    "        nx.write_gml(new_graph, evaluation_dataset_name + \"/empty_graph.\" + graph_number)\n",
    "        \n",
    "        target = np.zeros([num_nodes, num_nodes])  # Empty target matrix (needed for PyTorch dataloader)\n",
    "        np.savetxt(evaluation_dataset_name + \"/target.\" + graph_number, target)"
   ]
  },
  {
   "cell_type": "markdown",
   "metadata": {},
   "source": [
    "# Example Datapoints"
   ]
  },
  {
   "cell_type": "code",
   "execution_count": 16,
   "metadata": {
    "collapsed": true
   },
   "outputs": [],
   "source": [
    "full_dataset_name = \"full_graph_dataset_5_7_8_nodes_2-19-2020\"  # Folder containing set of original graphs\n",
    "training_dataset_name = \"training_graph_dataset_5_7_8_nodes_2-19-2020\"  # Folder containing set of training datapoints\n",
    "num_uid_digits = 6 # Number of unique id digits in graph filenames \n",
    "\n",
    "# Test an example\n",
    "test_graph_num = 90408"
   ]
  },
  {
   "cell_type": "code",
   "execution_count": 17,
   "metadata": {
    "collapsed": false
   },
   "outputs": [],
   "source": [
    "original_graph = nx.read_gml(full_dataset_name + \"/graph.\" + (\"{:0\" + str(num_uid_digits) + \"d}\").format(test_graph_num), destringizer=int)\n",
    "partial_graph = nx.read_gml(training_dataset_name + \"/partial_graph.\" + (\"{:0\" + str(num_uid_digits) + \"d}\").format(test_graph_num), destringizer=int)\n",
    "target = np.loadtxt(training_dataset_name + \"/target.\" + (\"{:0\" + str(num_uid_digits) + \"d}\").format(test_graph_num))"
   ]
  },
  {
   "cell_type": "code",
   "execution_count": 18,
   "metadata": {
    "collapsed": false
   },
   "outputs": [
    {
     "data": {
      "image/png": "[encoded data removed]",
      "text/plain": [
       "<Figure size 432x288 with 1 Axes>"
      ]
     },
     "metadata": {},
     "output_type": "display_data"
    }
   ],
   "source": [
    "nx.draw(original_graph)"
   ]
  },
  {
   "cell_type": "code",
   "execution_count": 19,
   "metadata": {
    "collapsed": false
   },
   "outputs": [
    {
     "data": {
      "image/png": "[encoded data removed]",
      "text/plain": [
       "<Figure size 432x288 with 1 Axes>"
      ]
     },
     "metadata": {},
     "output_type": "display_data"
    }
   ],
   "source": [
    "nx.draw(partial_graph)"
   ]
  },
  {
   "cell_type": "code",
   "execution_count": 20,
   "metadata": {
    "collapsed": false
   },
   "outputs": [
    {
     "name": "stdout",
     "output_type": "stream",
     "text": [
      "[[0. 1. 1. 0. 1. 1. 0. 1.]\n",
      " [1. 0. 1. 1. 0. 1. 1. 0.]\n",
      " [1. 1. 0. 1. 1. 0. 1. 1.]\n",
      " [0. 1. 1. 0. 1. 1. 0. 1.]\n",
      " [1. 0. 1. 1. 0. 1. 0. 1.]\n",
      " [1. 1. 0. 1. 1. 0. 1. 1.]\n",
      " [0. 1. 1. 0. 0. 1. 0. 1.]\n",
      " [1. 0. 1. 1. 1. 1. 1. 0.]]\n"
     ]
    }
   ],
   "source": [
    "print(target)"
   ]
  },
  {
   "cell_type": "markdown",
   "metadata": {},
   "source": [
    "# Network"
   ]
  },
  {
   "cell_type": "code",
   "execution_count": 2,
   "metadata": {
    "collapsed": true
   },
   "outputs": [],
   "source": [
    "max_num_nodes = 8  \n",
    "num_layers = 3"
   ]
  },
  {
   "cell_type": "code",
   "execution_count": 3,
   "metadata": {
    "collapsed": true
   },
   "outputs": [],
   "source": [
    "# loop_PyTorch \n",
    "def contains_self_loops(edge_index):\n",
    "    \"\"\"Returns a boolean for existence of self-loops in the graph\"\"\"\n",
    "    row, col = edge_index\n",
    "    mask = row == col\n",
    "    return mask.sum().item() > 0\n",
    "\n",
    "\n",
    "def remove_self_loops(edge_index, edge_attr=None):\n",
    "    \"\"\"Remove self-loops from the edge_index and edge_attr attributes\"\"\"\n",
    "    row, col = edge_index\n",
    "    mask = row != col\n",
    "    edge_attr = edge_attr if edge_attr is None else edge_attr[mask]\n",
    "    mask = mask.expand_as(edge_index)\n",
    "    edge_index = edge_index[mask].view(2, -1)\n",
    "\n",
    "    return edge_index, edge_attr"
   ]
  },
  {
   "cell_type": "code",
   "execution_count": 4,
   "metadata": {
    "collapsed": true
   },
   "outputs": [],
   "source": [
    "# isolated_PyTorch\n",
    "def contains_isolated_nodes(edge_index, num_nodes):\n",
    "    \"\"\"Check if there are any isolated nodes\"\"\"\n",
    "    (row, _), _ = remove_self_loops(edge_index)\n",
    "    return torch.unique(row).size(0) < num_nodes"
   ]
  },
  {
   "cell_type": "code",
   "execution_count": 5,
   "metadata": {
    "collapsed": true
   },
   "outputs": [],
   "source": [
    "# Data_PyTorch\n",
    "class Data(object):\n",
    "\n",
    "    def __init__(self, x=None, edge_index=None, edge_attr=None, y=None, pos=None, uid=None):\n",
    "        \"\"\"\n",
    "        Custom data class for graph objects. Note: below, 'data' refers to an example instance of Data().\n",
    "        :param x: (torch.Tensor, preferable type torch.float): node feature matrix, shape [num_nodes, num_node_features]\n",
    "        :param edge_index: (torch.Tensor of dype torch.long): graph connectivity matrix in COO format, shape [2, num_edges]\n",
    "        :param edge_attr: (torch.Tensor, preferably type torch.float): edge feature matrix,\n",
    "        shape [num_edges, num_edge_features]\n",
    "        :param y: (torch.Tensor): target data, shape arbitrary, but ideally has one dimension only\n",
    "        :param pos: (torch.Tensor of type torch.float): node position matrix, shape [num_nodes, num_dimensions]\n",
    "        :param label: str label for the data (preferably a unique identifier)\n",
    "        \"\"\"\n",
    "        self.x = x\n",
    "        self.edge_index = edge_index\n",
    "        self.edge_attr = edge_attr\n",
    "        self.y = y\n",
    "        self.pos = pos\n",
    "        self.uid = uid\n",
    "\n",
    "    @staticmethod\n",
    "    def from_dict(dictionary):\n",
    "        \"\"\"\n",
    "        Construct a Data object with custom attributes from a dictionary of keys and items.\n",
    "        Apply as data = Data.from_dict(<some dictionary>).\n",
    "        :param dictionary: A dictionary containing custom keys and torch.Tensor items\n",
    "        :return: The Data() object\n",
    "        \"\"\"\n",
    "        data = Data()\n",
    "        for key, item in dictionary.items():\n",
    "            data[key] = item\n",
    "        return data\n",
    "\n",
    "    def __getitem__(self, key):\n",
    "        \"\"\"\n",
    "        Access object attributes via data['key'] instead of data.key\n",
    "        :param key: Data() keys such as 'x' or 'pos'\n",
    "        :return: The corresponding attributes\n",
    "        \"\"\"\n",
    "        return getattr(self, key)\n",
    "\n",
    "    def __setitem__(self, key, item):\n",
    "        \"\"\"\n",
    "        Set object attributes via data['key']=item instead of data.key = item\n",
    "        :param key: Data() keys such as 'x' or 'pos'\n",
    "        :param item: Object attribute\n",
    "        \"\"\"\n",
    "        setattr(self, key, item)\n",
    "\n",
    "    @property\n",
    "    def keys(self):\n",
    "        \"\"\"\n",
    "        data.keys gives a list of object keys (read-only property)\n",
    "        :return: List of object keys\n",
    "        \"\"\"\n",
    "        return [key for key in self.__dict__.keys() if self[key] is not None]\n",
    "\n",
    "    def __len__(self):\n",
    "        \"\"\"\n",
    "        len(data) gives the number of keys in data\n",
    "        :return: Number of keys\n",
    "        \"\"\"\n",
    "        return len(self.keys)\n",
    "\n",
    "    def __contains__(self, key):\n",
    "        \"\"\"\n",
    "        'x' in data will return True if x is in data and is not None\n",
    "        :param key: Data() key such as 'x' or 'pos'\n",
    "        :return: Boolean\n",
    "        \"\"\"\n",
    "        return key in self.keys\n",
    "\n",
    "    def __iter__(self):\n",
    "        \"\"\"\n",
    "        Allows for iterations such as: for i in data: print(i)\n",
    "        \"\"\"\n",
    "        for key in sorted(self.keys):\n",
    "            yield key, self[key]\n",
    "\n",
    "    def __call__(self, *keys):\n",
    "        \"\"\"\n",
    "        for i in data(): print(i) will act as __iter__ above; for i in data('x', 'y'): print(i) will only\n",
    "        iterate over 'x' and 'y' keys\n",
    "        :param keys: Data() keys such as 'x' or 'pos'\n",
    "        \"\"\"\n",
    "        for key in sorted(self.keys) if not keys else keys:\n",
    "            if self[key] is not None:\n",
    "                yield key, self[key]\n",
    "\n",
    "    def cat_dim(self, key):\n",
    "        \"\"\"\n",
    "        Returns the dimension in which the attribute should be concatenated when creating batches.\n",
    "        :param key: Data() key such as 'x' or 'pos'\n",
    "        :return: Either -1 for 'edge_index' attributes or 0 otherwise\n",
    "        \"\"\"\n",
    "        return -1 if key in ['edge_index'] else 0\n",
    "\n",
    "    @property\n",
    "    def num_nodes(self):\n",
    "        \"\"\"\n",
    "        Returns the 0th index of data.x or data.pos for the number of nodes in the system. data.x and data.pos should\n",
    "        have the same 0th index.\n",
    "        :return: Number of nodes\n",
    "        \"\"\"\n",
    "        for key, item in self('x', 'pos'):\n",
    "            return item.size(0)\n",
    "        return None\n",
    "\n",
    "    @property \n",
    "    def num_edges(self):\n",
    "        \"\"\"\n",
    "        Returns the 1th index for data.edge_index and the 0th index for data.edge_attr, corresponding to the number\n",
    "        of edges in the graph\n",
    "        :return: Number of edges\n",
    "        \"\"\"\n",
    "        for key, item in self('edge_index', 'edge_attr'):\n",
    "            if key == 'edge_index':\n",
    "                return item.size(1)\n",
    "            else:\n",
    "                return item.size(0)\n",
    "        return None\n",
    "\n",
    "    @property\n",
    "    def num_features(self):\n",
    "        \"\"\"\n",
    "        Number of features, encoded in data.x\n",
    "        :return: Number of features\n",
    "        \"\"\"\n",
    "        return 1 if self.x.dim() == 1 else self.x.size(1)\n",
    "\n",
    "    def contains_isolated_nodes(self):\n",
    "        \"\"\"\n",
    "        Whether or not the graph contains isolated nodes\n",
    "        :return: Boolean\n",
    "        \"\"\"\n",
    "        return contains_isolated_nodes(self.edge_index, self.num_nodes)\n",
    "\n",
    "    def contains_self_loops(self):\n",
    "        \"\"\"\n",
    "        Whether or not the graph contains self-loops\n",
    "        :return: Boolean\n",
    "        \"\"\"\n",
    "        return contains_self_loops(self.edge_index)\n",
    "\n",
    "    def apply(self, func, *keys):\n",
    "        \"\"\"\n",
    "        Apply a function to every key (if *keys is blank) or to a specific set of keys\n",
    "        :param func: Some function that will act on every element of a data attribute\n",
    "        :param keys: Data() keys such as 'x' or 'pos'\n",
    "        :return: The modified Data() object\n",
    "        \"\"\"\n",
    "        for key, item in self(*keys):\n",
    "            self[key] = func(item)\n",
    "        return self\n",
    "\n",
    "    def contiguous(self, *keys):\n",
    "        \"\"\"\n",
    "        Apply PyTorch contiguity to every key (if *keys is blank) or to a specific set of keys\n",
    "        :param keys: Data() keys such as 'x' or 'pos'\n",
    "        :return: The modified Data() object\n",
    "        \"\"\"\n",
    "        return self.apply(lambda x: x.contiguous(), *keys)\n",
    "\n",
    "    def to(self, device, *keys):\n",
    "        \"\"\"\n",
    "        Move data attributes to device. data.to(device) moves all attributes to device, while\n",
    "        data.to(device, 'x', 'pos') moves only data.x and data.pos to device\n",
    "        :param device:\n",
    "        :param keys:\n",
    "        :return:\n",
    "        \"\"\"\n",
    "        return self.apply(lambda x: x.to(device), *keys)\n",
    "\n",
    "    def __repr__(self):\n",
    "        \"\"\"\n",
    "        :return: Representation of class in interpreter\n",
    "        \"\"\"\n",
    "        info = ['{}={}'.format(key, list(item.size())) for key, item in self]\n",
    "        return '{}({})'.format(self.__class__.__name__, ', '.join(info))"
   ]
  },
  {
   "cell_type": "code",
   "execution_count": 6,
   "metadata": {
    "collapsed": false
   },
   "outputs": [],
   "source": [
    "# Dataset class\n",
    "class GraphDataset(Dataset):\n",
    "\n",
    "    def __init__(self, metadata, max_num_nodes = None, transform=None):\n",
    "        \"\"\"\n",
    "        Custom dataset for random graphs\n",
    "        :param metadata: Metadata contents\n",
    "        :param transform: Transform to apply to the data (can be a Compose() object)\n",
    "        \"\"\"\n",
    "        super(Dataset, self).__init__()\n",
    "        self.metadata = metadata\n",
    "        self.transform = transform\n",
    "        self.max_num_nodes = max_num_nodes\n",
    "\n",
    "    def __len__(self):\n",
    "        return len(self.metadata)\n",
    "\n",
    "    def __getitem__(self, idx):\n",
    "        \"\"\" Output a data object with node features, edge connectivity, and target vector\"\"\"       \n",
    "        data = Data()  # Create data object\n",
    "        \n",
    "        # Read in data\n",
    "        graph = nx.read_gml(self.metadata[idx]['graph_path'], destringizer=int)  # Read in the partial graph\n",
    "        target = np.loadtxt(self.metadata[idx]['target_path'])  # Read in the target matrix of allowed edges\n",
    "        num_nodes = len(list(graph.nodes))  # Compute the number of nodes in the graph \n",
    "        \n",
    "        # Compute node features\n",
    "#         one_hot_features = np.zeros((num_nodes, num_nodes))  # Create a one-hot mapping for remaining node degree\n",
    "        one_hot_features = np.zeros((self.max_num_nodes, self.max_num_nodes))  # Create a one-hot mapping for remaining node degree\n",
    "\n",
    "        np.fill_diagonal(one_hot_features, 1.)\n",
    "        raw_features = np.array([[graph.nodes[i]['deg'], graph.degree[i], graph.nodes[i]['deg'] - graph.degree[i]] for i in range(num_nodes)])  # Compute the original node degree, current node degree, and remaining node degree\n",
    "        one_hot_features = np.array([one_hot_features[graph.nodes[i]['deg'] - graph.degree[i]] for i in range(num_nodes)])  # Compute one-hot encoding for remaining node degree\n",
    "        data.x = torch.tensor(np.concatenate((raw_features, one_hot_features), axis=1), dtype=torch.float)  # Node features: concatenate the raw features and one-hot encoded features \n",
    "        \n",
    "        # Compute targets\n",
    "        data.y = torch.tensor(target[np.triu_indices(num_nodes, k=1)], dtype=torch.float)  # Target: 1-d tensor derived from upper triangle (not including main diagonal) of the target matrix\n",
    "        \n",
    "        # Compute graph id\n",
    "        data.uid = torch.tensor([int(self.metadata[idx]['uid'])])  # Unique id\n",
    "        \n",
    "        # Compute edge connectivity in COO format corresponding to a complete graph on num_nodes\n",
    "        complete_graph = np.ones([num_nodes, num_nodes])  # Create an auxiliary complete graph\n",
    "        complete_graph = np.triu(complete_graph, k=1)  # Compute an upper triangular matrix of the complete graph, with zeros on main diagonal\n",
    "        complete_graph = scipy.sparse.csc_matrix(complete_graph)  # Compute a csc style sparse matrix from this graph\n",
    "        row, col = complete_graph.nonzero()  # Extract the row and column indices corresponding to non-zero entries\n",
    "        row = torch.tensor(row, dtype=torch.long)\n",
    "        col = torch.tensor(col, dtype=torch.long)\n",
    "        data.edge_index = torch.stack([row, col], dim=0)  # Edge connectivity in COO format (includes *all* possible edges in graphs with a given num_nodes)\n",
    "        \n",
    "        # Compute edge attributes, i.e., 1 if the edge is actually present in the graph, 0 otherwise\n",
    "        data.edge_attr = torch.tensor([[i] for i in np.array(nx.to_numpy_matrix(graph))[np.triu_indices(num_nodes, k=1)]], dtype=torch.float)  # Attributes: 1-d tensor derived from upper triangle (not including main diagonal) of actual edges that are present in the graph   \n",
    "    \n",
    "    \n",
    "        # Transform \n",
    "        data = data if self.transform is None else self.transform(data)\n",
    "\n",
    "        return data\n",
    "\n",
    "    def __repr__(self):\n",
    "        return '{}({})'.format(self.__class__.__name__, len(self))"
   ]
  },
  {
   "cell_type": "code",
   "execution_count": 7,
   "metadata": {
    "collapsed": true
   },
   "outputs": [],
   "source": [
    "class Batch(Data):\n",
    "    \"\"\"\n",
    "    Batch class for mini-batch parallelization. All of the methods of class Data can be used.\n",
    "    In addition, single graphs can be reconstructed via the assignment vector, batch, which\n",
    "    maps each node to its respective graph identifier.\n",
    "    \"\"\"\n",
    "\n",
    "    def __init__(self, batch=None, **kwargs):\n",
    "        super(Batch, self).__init__(**kwargs)\n",
    "        self.batch = batch\n",
    "\n",
    "    @staticmethod\n",
    "    def from_data_list(data_list):\n",
    "        \"\"\"Constructs an object of class Batch from a list of graphs generated by a DataLoader\"\"\"\n",
    "\n",
    "        keys = data_list[0].keys\n",
    "        assert 'batch' not in keys\n",
    "\n",
    "        batch = Batch()\n",
    "\n",
    "        for key in keys:\n",
    "            batch[key] = []\n",
    "        batch.batch = []\n",
    "\n",
    "        cumsum = 0\n",
    "        for i, data in enumerate(data_list):\n",
    "            num_nodes = data.num_nodes\n",
    "            batch.batch.append(torch.full((num_nodes, ), i, dtype=torch.long))\n",
    "            for key in keys:\n",
    "                item = data[key]\n",
    "                # Ensures that the cumulative edge_index matrix of the batch will\n",
    "                # have different sets of indices for each subgraph of the batch\n",
    "                item = item + cumsum if batch.cumsum(key) else item\n",
    "                batch[key].append(item)\n",
    "            cumsum += num_nodes\n",
    "\n",
    "        for key in keys:\n",
    "            # Concatenates batch['edge_index'] differently than the others (and also possibly batch['y'])\n",
    "            batch[key] = torch.cat(batch[key], dim=data_list[0].cat_dim(key))\n",
    "        batch.batch = torch.cat(batch.batch, dim=-1)\n",
    "        return batch.contiguous()\n",
    "\n",
    "    def cumsum(self, key):\n",
    "        \"\"\"\n",
    "        Checks for the presence of 'edge_index' attribute for determining how to index values\n",
    "        :param key: Data() attributes such as 'x' or 'pos'\n",
    "        :return: Boolean\n",
    "        \"\"\"\n",
    "        return key in ['edge_index']\n",
    "\n",
    "    @property\n",
    "    def num_graphs(self):\n",
    "        \"\"\"Compute the number of graphs in the batch\"\"\"\n",
    "        return self.batch[-1].item() + 1\n"
   ]
  },
  {
   "cell_type": "code",
   "execution_count": 8,
   "metadata": {
    "collapsed": true
   },
   "outputs": [],
   "source": [
    "class DataLoader(torch.utils.data.DataLoader):\n",
    "\n",
    "    def __init__(self, dataset, batch_size=1, shuffle=True, **kwargs):\n",
    "        \"\"\"\n",
    "        Initialize a Dataloader object using the custom collate_fn from Batch class\n",
    "        :param dataset: Dataset to be used\n",
    "        :param batch_size: Batch size\n",
    "        :param shuffle: Whether or not to shuffle data\n",
    "        :param kwargs: Other arguments\n",
    "        \"\"\"\n",
    "        super(DataLoader, self).__init__(\n",
    "            dataset,\n",
    "            batch_size,\n",
    "            shuffle,\n",
    "            collate_fn=lambda batch: Batch.from_data_list(batch),\n",
    "            **kwargs)"
   ]
  },
  {
   "cell_type": "code",
   "execution_count": 9,
   "metadata": {
    "collapsed": true
   },
   "outputs": [],
   "source": [
    "def to_undirected(edge_index, num_nodes):\n",
    "    \"\"\"Returns an undirected (bidirectional) COO format connectivity matrix from an original matrix given by edge_index\"\"\"\n",
    "\n",
    "    row, col = edge_index\n",
    "    row, col = torch.cat([row, col], dim=0), torch.cat([col, row], dim=0)\n",
    "    unique, inv = torch.unique(row*num_nodes + col, sorted=True, return_inverse=True)\n",
    "    perm = torch.arange(inv.size(0), dtype=inv.dtype, device=inv.device)\n",
    "    perm = inv.new_empty(unique.size(0)).scatter_(0, inv, perm)\n",
    "    index = torch.stack([row[perm], col[perm]], dim=0)\n",
    "\n",
    "    return index "
   ]
  },
  {
   "cell_type": "code",
   "execution_count": 10,
   "metadata": {
    "collapsed": false
   },
   "outputs": [],
   "source": [
    "loss_func = torch.nn.BCELoss(reduction='none')\n",
    "metric_func = roc_auc_score"
   ]
  },
  {
   "cell_type": "code",
   "execution_count": 11,
   "metadata": {
    "collapsed": false
   },
   "outputs": [],
   "source": [
    "class RelationalNetwork(torch.nn.Module):\n",
    "    \"\"\" Relational network definition \"\"\"\n",
    "    \n",
    "    def __init__(self, hidden_size = 256, num_layers = 32, num_edge_features = None, num_vertex_features = None, final_linear_size = 1024):\n",
    "        \n",
    "        super(RelationalNetwork, self).__init__()\n",
    "        self.hidden_size = hidden_size  # Internal feature size\n",
    "        self.num_layers = num_layers  # Number of relational layers\n",
    "        self.num_edge_features = num_edge_features  # Number of input edge features\n",
    "        self.num_vertex_features = num_vertex_features  # Number of input vertex features\n",
    "        self.final_linear_size = final_linear_size  # Number of nodes in final linear layer\n",
    "        self.edge_featurize = torch.nn.Linear(self.num_edge_features, self.hidden_size)  # Initial linear layer for featurization of edge features\n",
    "        self.vertex_featurize = torch.nn.Linear(self.num_vertex_features, self.hidden_size)  # Initial linear layer for featurization of vertex features\n",
    "        self.L_e = torch.nn.ModuleList([torch.nn.Linear(self.hidden_size, self.hidden_size) for _ in range(self.num_layers)])  # Linear layers for edges\n",
    "        self.L_v = torch.nn.ModuleList([torch.nn.Linear(self.hidden_size, self.hidden_size) for _ in range(self.num_layers)])  # Linear layers for vertices\n",
    "        self.edge_batch_norm = torch.nn.ModuleList([torch.nn.BatchNorm1d(self.hidden_size) for _ in range(self.num_layers)])  # Batch norms for edges (\\phi_e)\n",
    "        self.vertex_batch_norm = torch.nn.ModuleList([torch.nn.BatchNorm1d(self.hidden_size) for _ in range(self.num_layers)])  # Batch norms for vertices (\\phi_v)\n",
    "        self.gru = torch.nn.ModuleList([torch.nn.GRU(self.hidden_size, self.hidden_size) for _ in range(self.num_layers)])  # GRU cells\n",
    "        self.final_linear_layer = torch.nn.Linear(self.hidden_size, self.final_linear_size)  # Final linear layer\n",
    "        self.output_layer = torch.nn.Linear(self.final_linear_size, 1)  # Output layer\n",
    "        self.sigmoid = torch.nn.Sigmoid()  # Sigmoid for 0/1 predictions\n",
    "        \n",
    "        \n",
    "    def forward(self, batch):\n",
    "        \n",
    "        e_ij_in = self.edge_featurize(batch.edge_attr)  # Featurization \n",
    "        v_i_in = self.vertex_featurize(batch.x)\n",
    "        \n",
    "        for k in range(self.num_layers):\n",
    "            e_ij = self.L_e[k](e_ij_in)  # Linear layer for edges\n",
    "            v_i_prime = self.L_v[k](v_i_in)  # Linear layer for vertices\n",
    "            e_ij_prime = F.relu(self.edge_batch_norm[k](torch.stack([e_ij[edge_num] + v_i_prime[batch.edge_index[0][edge_num]] + v_i_prime[batch.edge_index[1][edge_num]] for edge_num in range(e_ij.size(0))])))  # Add pairwise vertex features to edge features followed by batch norm and ReLU \n",
    "            undirected_edge_index = to_undirected(batch.edge_index, batch.num_nodes)  # Full set of undirected edges for bookkeeping\n",
    "            v_i_e = torch.stack([torch.max(e_ij_prime[np.array([np.intersect1d(np.where(batch.edge_index[0] == min(vertex_num, i)), np.where(batch.edge_index[1] == max(vertex_num, i))) for i in np.array(undirected_edge_index[1][np.where(undirected_edge_index[0] == vertex_num)])]).flatten()], 0)[0] for vertex_num in range(batch.num_nodes)])  # Aggregate edge features                             \n",
    "            gru_input = v_i_e.view(1, batch.num_nodes, self.hidden_size)  # Resize GRU input\n",
    "            gru_hidden = v_i_in.view(1, batch.num_nodes, self.hidden_size)  # Resize GRU hidden\n",
    "            gru_output, _ = self.gru[k](gru_input, gru_hidden)  # Compute GRU output\n",
    "            v_i_c = F.relu(self.vertex_batch_norm[k](gru_output.view(batch.num_nodes, self.hidden_size)))  # Apply batch norm and ReLU to GRU output\n",
    "            v_i_in = v_i_c + v_i_in  # Add residual connection to vertex input \n",
    "            e_ij_in = e_ij_prime + e_ij_in  # Add residual connection to edge input\n",
    "            \n",
    "        e_ij_final = self.final_linear_layer(e_ij_in)  # Compute final linear layer\n",
    "        out = self.output_layer(e_ij_final)  # Output layer\n",
    "        preds = self.sigmoid(out)\n",
    "        \n",
    "        return preds"
   ]
  },
  {
   "cell_type": "code",
   "execution_count": 12,
   "metadata": {
    "collapsed": false
   },
   "outputs": [],
   "source": [
    "def train(model, data, loss_func, optimizer):\n",
    "    \n",
    "    model.train()\n",
    "    \n",
    "    loss_sum = 0\n",
    "    for batch in tqdm(data, total=len(data)):\n",
    "        model.zero_grad()\n",
    "        targets = batch.y.unsqueeze(1)\n",
    "        preds = model(batch)\n",
    "        loss = loss_func(preds, batch.y.unsqueeze(1))\n",
    "        loss = loss.sum() / batch.num_graphs\n",
    "        loss_sum += loss.item()\n",
    "        \n",
    "        loss.backward()\n",
    "        optimizer.step()\n",
    "        \n",
    "\n",
    "    loss_avg = loss_sum / len(data)\n",
    "    print('train loss: ', loss_avg)"
   ]
  },
  {
   "cell_type": "code",
   "execution_count": 13,
   "metadata": {
    "collapsed": false
   },
   "outputs": [],
   "source": [
    "def evaluate(model, data, metric_func):\n",
    "    \n",
    "    targets = []\n",
    "    preds = []\n",
    "    \n",
    "    with torch.no_grad():\n",
    "        model.eval()\n",
    "        \n",
    "        for batch in tqdm(data, total=len(data)):\n",
    "            targets.extend(batch.y.numpy())\n",
    "            batch_preds = model(batch)\n",
    "            preds.extend(batch_preds.numpy())\n",
    "    \n",
    "    return metric_func(targets, preds)"
   ]
  },
  {
   "cell_type": "code",
   "execution_count": 14,
   "metadata": {
    "collapsed": true
   },
   "outputs": [],
   "source": [
    "def save_checkpoint(model, path):\n",
    "    \"\"\"\n",
    "    Saves a model checkpoint.\n",
    "    :param model: A PyTorch model.\n",
    "    :param path: Path where checkpoint will be saved.\n",
    "    \"\"\"\n",
    "    state = {\n",
    "        'state_dict': model.state_dict()\n",
    "    }\n",
    "    torch.save(state, path)"
   ]
  },
  {
   "cell_type": "markdown",
   "metadata": {},
   "source": [
    "# Training"
   ]
  },
  {
   "cell_type": "code",
   "execution_count": 2,
   "metadata": {
    "collapsed": true
   },
   "outputs": [],
   "source": [
    "training_dataset_name = \"training_graph_dataset_5_7_8_nodes_2-19-2020\"  # Folder containing set of training datapoints\n",
    "num_uid_digits = 6  # Number of unique id digits in graph filenames  \n",
    "metadata_folder_name = \"metadata\"\n",
    "metadata_file_name = \"metadata.json\"\n",
    "val_test_size = 0.2  # Train/test split\n",
    "seed = 0  \n",
    "batch_size = 5\n",
    "epochs = 2\n",
    "save_dir = \"saved_models\"\n",
    "model_name = \"model.pt\""
   ]
  },
  {
   "cell_type": "code",
   "execution_count": 24,
   "metadata": {
    "collapsed": true
   },
   "outputs": [],
   "source": [
    "data = []\n",
    "for root, subfolders, files in os.walk(training_dataset_name):\n",
    "    for f in files:\n",
    "        if f[:7] == \"partial\":\n",
    "            graph_path = os.path.join(root, f)\n",
    "            target_path = os.path.join(root, \"target.\"+f[-num_uid_digits:])\n",
    "            uid = f[f.find('.') + 1:f.find('.') + num_uid_digits + 1]\n",
    "            data.append({'graph_path': graph_path, 'target_path': target_path, 'uid': uid})\n",
    "os.makedirs(metadata_folder_name, exist_ok=True)\n",
    "json.dump(data, open(metadata_folder_name+'/'+metadata_file_name, 'w'), indent=4, sort_keys=True)"
   ]
  },
  {
   "cell_type": "code",
   "execution_count": 33,
   "metadata": {
    "collapsed": false
   },
   "outputs": [
    {
     "name": "stdout",
     "output_type": "stream",
     "text": [
      "loading data\n",
      "train size = 30,162 | val size = 3,770 | test size = 3,771\n"
     ]
    }
   ],
   "source": [
    "metadata = json.load(open(metadata_folder_name+'/'+metadata_file_name, 'r'))\n",
    "\n",
    "train_metadata, remaining_metadata = train_test_split(metadata, test_size=val_test_size, random_state=seed)\n",
    "validation_metadata, test_metadata = train_test_split(remaining_metadata, test_size=0.5, random_state=seed)\n",
    "\n",
    "print(\"loading data\")\n",
    "train_data = GraphDataset(train_metadata, max_num_nodes)\n",
    "val_data = GraphDataset(validation_metadata, max_num_nodes)\n",
    "test_data = GraphDataset(test_metadata, max_num_nodes)\n",
    "\n",
    "train_data_length, val_data_length, test_data_length = len(train_data), len(val_data), len(test_data)\n",
    "print('train size = {:,} | val size = {:,} | test size = {:,}'.format(\n",
    "    train_data_length,\n",
    "    val_data_length,\n",
    "    test_data_length)\n",
    ")\n",
    "\n",
    "# Convert to iterators\n",
    "train_data = DataLoader(train_data, batch_size)\n",
    "val_data = DataLoader(val_data, batch_size)\n",
    "test_data = DataLoader(test_data, batch_size)"
   ]
  },
  {
   "cell_type": "code",
   "execution_count": 37,
   "metadata": {
    "collapsed": false
   },
   "outputs": [],
   "source": [
    "model = RelationalNetwork(hidden_size=256, num_layers = num_layers, num_edge_features = 1, num_vertex_features = max_num_nodes + 3, final_linear_size = 1024)"
   ]
  },
  {
   "cell_type": "code",
   "execution_count": 38,
   "metadata": {
    "collapsed": false
   },
   "outputs": [],
   "source": [
    "optimizer = Adam(model.parameters(), lr=1e-4)"
   ]
  },
  {
   "cell_type": "code",
   "execution_count": null,
   "metadata": {
    "collapsed": false
   },
   "outputs": [],
   "source": [
    "os.makedirs(save_dir, exist_ok = True)\n",
    "best_score = 0.0\n",
    "best_epoch = 0\n",
    "for epoch in trange(epochs):\n",
    "    train(model, train_data, loss_func, optimizer)\n",
    "    val_score = evaluate(model, val_data, metric_func)\n",
    "    \n",
    "    if val_score > best_score:\n",
    "        best_score = val_score\n",
    "        best_epoch = epoch\n",
    "        save_checkpoint(model, os.path.join(save_dir, model_name))\n",
    "\n",
    "print(\"best score: \", str(best_score), \"best epoch:\", str(best_epoch))"
   ]
  },
  {
   "cell_type": "code",
   "execution_count": null,
   "metadata": {
    "collapsed": false
   },
   "outputs": [],
   "source": [
    "test_score = evaluate(model, test_data, metric_func)\n",
    "print(\"test score: \", test_score)"
   ]
  },
  {
   "cell_type": "markdown",
   "metadata": {},
   "source": [
    "# Evaluation"
   ]
  },
  {
   "cell_type": "code",
   "execution_count": 15,
   "metadata": {
    "collapsed": true
   },
   "outputs": [],
   "source": [
    "# Create metadata file for evaluation graphs\n",
    "full_dataset_name = \"full_graph_dataset_6_nodes_2-18-2020\"\n",
    "evaluation_dataset_name = \"evaluation_graph_dataset_6_nodes_2-18-2020\"  # Folder containing set of evaluation datapoints\n",
    "num_uid_digits = 5  # Number of unique id digits in graph filenames  \n",
    "metadata_eval_folder_name = \"metadata_eval\"\n",
    "metadata_eval_file_name = \"metadata_eval.json\"\n",
    "val_test_size = 0.11121  # Train/test split (gives effective number of evaluation points)\n",
    "seed = 0  \n",
    "batch_size = 1\n",
    "saved_model_file_path = \"saved_models/model_5_7_8_nodes_2-22-2020\""
   ]
  },
  {
   "cell_type": "code",
   "execution_count": 16,
   "metadata": {
    "collapsed": true
   },
   "outputs": [],
   "source": [
    "data = []\n",
    "for root, subfolders, files in os.walk(evaluation_dataset_name):\n",
    "    for f in files:\n",
    "        if f[:5] == \"empty\":\n",
    "            graph_path = os.path.join(root, f)\n",
    "            target_path = os.path.join(root, \"target.\"+f[-num_uid_digits:])\n",
    "            uid = f[f.find('.') + 1:f.find('.') + num_uid_digits + 1]\n",
    "            data.append({'graph_path': graph_path, 'target_path': target_path, 'uid': uid})\n",
    "os.makedirs(metadata_eval_folder_name, exist_ok=True)\n",
    "json.dump(data, open(metadata_eval_folder_name+'/'+metadata_eval_file_name, 'w'), indent=4, sort_keys=True)"
   ]
  },
  {
   "cell_type": "code",
   "execution_count": 17,
   "metadata": {
    "collapsed": false
   },
   "outputs": [
    {
     "name": "stdout",
     "output_type": "stream",
     "text": [
      "eval size =  1000\n"
     ]
    }
   ],
   "source": [
    "metadata_eval = json.load(open(metadata_eval_folder_name+'/'+metadata_eval_file_name, 'r'))\n",
    "\n",
    "_, metadata_eval = train_test_split(metadata_eval, test_size=val_test_size, random_state=seed)\n",
    "\n",
    "eval_data = GraphDataset(metadata_eval, max_num_nodes)\n",
    "eval_data = DataLoader(eval_data, 1)\n",
    "\n",
    "one_hot_features = np.zeros((max_num_nodes, max_num_nodes))  # Create a one-hot mapping for remaining node degree\n",
    "np.fill_diagonal(one_hot_features, 1.)\n",
    "\n",
    "print(\"eval size = \", len(metadata_eval))"
   ]
  },
  {
   "cell_type": "code",
   "execution_count": 18,
   "metadata": {
    "collapsed": false
   },
   "outputs": [
    {
     "data": {
      "text/plain": [
       "<All keys matched successfully>"
      ]
     },
     "execution_count": 18,
     "metadata": {},
     "output_type": "execute_result"
    }
   ],
   "source": [
    "state = torch.load(saved_model_file_path)\n",
    "loaded_state_dict = state['state_dict']\n",
    "model = RelationalNetwork(hidden_size=256, num_layers = num_layers, num_edge_features = 1, num_vertex_features = max_num_nodes + 3, final_linear_size = 1024)\n",
    "model.load_state_dict(loaded_state_dict)"
   ]
  },
  {
   "cell_type": "code",
   "execution_count": 29,
   "metadata": {
    "collapsed": true
   },
   "outputs": [],
   "source": [
    "num_samples = 5\n",
    "argmax = False\n",
    "accuracy = False\n",
    "random = True\n",
    "random_connected = True"
   ]
  },
  {
   "cell_type": "code",
   "execution_count": null,
   "metadata": {
    "collapsed": false
   },
   "outputs": [],
   "source": [
    "num_successes = 0\n",
    "eval_counter = 0\n",
    "percent_correct_list = []\n",
    "for batch in tqdm(eval_data, total=len(eval_data)):\n",
    "    eval_counter += 1\n",
    "    percent_correct = 0\n",
    "    for i in range(num_samples):\n",
    "        graph_eval = copy.deepcopy(batch)\n",
    "        \n",
    "        if not random and not random_connected:\n",
    "\n",
    "            while torch.sum(graph_eval.x[:, 2] <= 0.0).item() < graph_eval.num_nodes:\n",
    "                with torch.no_grad():\n",
    "                    model.eval()\n",
    "\n",
    "                    out = model(graph_eval)\n",
    "                    out = out/torch.sum(out)\n",
    "\n",
    "                if argmax:\n",
    "                    edge_choice = torch.argmax(out).item()\n",
    "                else:\n",
    "                    xk = np.arange(graph_eval.edge_attr.size(0))\n",
    "                    pk = np.array(out).squeeze()\n",
    "                    prob = stats.rv_discrete(name='prob', values=(xk, pk))\n",
    "                    edge_choice = prob.rvs()\n",
    "\n",
    "                graph_eval.edge_attr[edge_choice] = 1.0\n",
    "                graph_eval.x[graph_eval.edge_index[0][edge_choice].item()][1] += 1.0\n",
    "                graph_eval.x[graph_eval.edge_index[0][edge_choice].item()][2] -= 1.0\n",
    "                graph_eval.x[graph_eval.edge_index[1][edge_choice].item()][1] += 1.0\n",
    "                graph_eval.x[graph_eval.edge_index[1][edge_choice].item()][2] -= 1.0\n",
    "                graph_eval.x[graph_eval.edge_index[0][edge_choice].item()][3:] = torch.tensor(one_hot_features[int(graph_eval.x[graph_eval.edge_index[0][edge_choice].item()][2].item())])\n",
    "                graph_eval.x[graph_eval.edge_index[1][edge_choice].item()][3:] = torch.tensor(one_hot_features[int(graph_eval.x[graph_eval.edge_index[1][edge_choice].item()][2].item())])\n",
    "\n",
    "            generated_graph = nx.Graph()\n",
    "            for i in range(graph_eval.edge_attr.size(0)):\n",
    "                if graph_eval.edge_attr[i].item() == 1.0:\n",
    "                    generated_graph.add_edge(graph_eval.edge_index[0][i].item(), graph_eval.edge_index[1][i].item())\n",
    "                \n",
    "        original_graph = nx.read_gml(os.path.join(full_dataset_name, \"graph.\" + (\"{:0\" + str(num_uid_digits) + \"d}\").format(graph_eval.uid.item())), destringizer=int)\n",
    "\n",
    "        if random or random_connected:\n",
    "            deg_seq = []\n",
    "            for j in range(len(original_graph.nodes)):\n",
    "                deg_seq.append(original_graph.nodes[j]['deg'])                \n",
    "            generated_graph = nx.configuration_model(deg_seq)\n",
    "            \n",
    "            if random_connected:\n",
    "                while not nx.is_connected(generated_graph):\n",
    "                    generated_graph = nx.configuration_model(deg_seq)\n",
    "\n",
    "        if accuracy:\n",
    "            if nx.is_isomorphic(original_graph, generated_graph):\n",
    "                num_successes += 1\n",
    "                break\n",
    "                \n",
    "        else:\n",
    "            if nx.is_isomorphic(original_graph, generated_graph):\n",
    "                percent_correct += 1\n",
    "    \n",
    "    if not accuracy:\n",
    "        percent_correct /= num_samples\n",
    "        percent_correct_list.append(percent_correct)\n",
    "\n",
    "if accuracy:\n",
    "    print(\"% samples with at least one correct graph: \", num_successes/eval_counter)\n",
    "else:\n",
    "    percent_correct_list.sort(reverse=True)\n",
    "    plt.plot([x/10 for x in range(1000)], 100.0*np.array(percent_correct_list), linewidth=3)\n",
    "    plt.xlabel(\"fraction of sorted data (pct)\")\n",
    "    plt.ylabel(\"pct correct samples\")\n",
    "    plt.title(\"frac samples with isomorphic graph\")\n",
    "    plt.ylim((0,100))"
   ]
  }
 ],
 "metadata": {
  "kernelspec": {
   "display_name": "mol-inverse",
   "language": "python",
   "name": "mol-inverse"
  },
  "language_info": {
   "codemirror_mode": {
    "name": "ipython",
    "version": 3
   },
   "file_extension": ".py",
   "mimetype": "text/x-python",
   "name": "python",
   "nbconvert_exporter": "python",
   "pygments_lexer": "ipython3",
   "version": "3.7.6"
  }
 },
 "nbformat": 4,
 "nbformat_minor": 2
}
